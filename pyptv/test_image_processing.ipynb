{
 "cells": [
  {
   "cell_type": "code",
   "execution_count": null,
   "metadata": {},
   "outputs": [],
   "source": [
    "import numpy as np\n",
    "from scipy.ndimage import gaussian_filter, median_filter\n",
    "from scipy.signal import convolve2d\n",
    "\n",
    "def enhance_local_contrast(image, min_blob_size=3, max_blob_size=50):\n",
    "    # Remove uneven illumination background using a Gaussian filter\n",
    "    smooth_image = gaussian_filter(image, sigma=50)\n",
    "\n",
    "    # Calculate the local contrast using a median filter\n",
    "    local_contrast = image - median_filter(image, size=30)\n",
    "\n",
    "    # Enhance local contrast for small blobs\n",
    "    small_blob_mask = (local_contrast > 0) & (local_contrast < 255)\n",
    "    small_blob_sizes = np.bincount(small_blob_mask.ravel())\n",
    "\n",
    "    for blob_size in range(min_blob_size, max_blob_size + 1):\n",
    "        if blob_size in small_blob_sizes:\n",
    "            # Apply local contrast enhancement only to blobs within the specified size range\n",
    "            blob_mask = (local_contrast > 0) & (local_contrast < 255) & (blob_size <= small_blob_mask)\n",
    "            local_contrast[blob_mask] = 255\n",
    "\n",
    "    # Combine the enhanced local contrast with the smoothed background\n",
    "    improved_image = smooth_image + local_contrast\n",
    "\n",
    "    # Clip values to be in the valid intensity range [0, 255]\n",
    "    improved_image = np.clip(improved_image, 0, 255).astype(np.uint8)\n",
    "\n",
    "    return improved_image\n",
    "\n",
    "# Example usage:\n",
    "# improved_image = enhance_local_contrast(your_grayscale_image)\n"
   ]
  }
 ],
 "metadata": {
  "kernelspec": {
   "display_name": "pyptv_openptv_python",
   "language": "python",
   "name": "python3"
  },
  "language_info": {
   "name": "python",
   "version": "3.10.13"
  }
 },
 "nbformat": 4,
 "nbformat_minor": 2
}
