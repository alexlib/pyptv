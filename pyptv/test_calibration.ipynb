{
 "cells": [
  {
   "cell_type": "code",
   "execution_count": 4,
   "metadata": {},
   "outputs": [],
   "source": [
    "# main\n",
    "from test_calibration import *\n",
    "%matplotlib qt\n",
    "\n",
    "from pathlib import Path\n",
    "working_path = Path('/home/user/Downloads/For_Alex_test_34')"
   ]
  },
  {
   "cell_type": "code",
   "execution_count": 5,
   "metadata": {},
   "outputs": [
    {
     "data": {
      "text/plain": [
       "(<Figure size 640x480 with 1 Axes>,\n",
       " <Axes3D: xlabel='X', ylabel='Z', zlabel='Y'>)"
      ]
     },
     "execution_count": 5,
     "metadata": {},
     "output_type": "execute_result"
    }
   ],
   "source": [
    "calblock = read_calblock(working_path / 'cal' / 'target_on_a_side.txt')\n",
    "result = read_dt_lsq(working_path / 'res' / 'rt_is.123456789')\n",
    "pairs = pair_cal_points(calblock, result, max_dist = 3.0)\n",
    "plot_cal_points(pairs)"
   ]
  },
  {
   "cell_type": "code",
   "execution_count": 6,
   "metadata": {},
   "outputs": [
    {
     "data": {
      "text/plain": [
       "(<Figure size 640x480 with 1 Axes>, <Axes: >)"
      ]
     },
     "execution_count": 6,
     "metadata": {},
     "output_type": "execute_result"
    }
   ],
   "source": [
    "plot_cal_err_histogram(pairs)"
   ]
  }
 ],
 "metadata": {
  "kernelspec": {
   "display_name": "pyptv25",
   "language": "python",
   "name": "python3"
  },
  "language_info": {
   "codemirror_mode": {
    "name": "ipython",
    "version": 3
   },
   "file_extension": ".py",
   "mimetype": "text/x-python",
   "name": "python",
   "nbconvert_exporter": "python",
   "pygments_lexer": "ipython3",
   "version": "3.11.8"
  }
 },
 "nbformat": 4,
 "nbformat_minor": 2
}
