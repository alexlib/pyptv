{
 "cells": [
  {
   "cell_type": "code",
   "execution_count": 24,
   "metadata": {},
   "outputs": [],
   "source": [
    "# Jupyter notebook version of calibration"
   ]
  },
  {
   "cell_type": "code",
   "execution_count": 25,
   "metadata": {},
   "outputs": [],
   "source": [
    "# from Yosef Meller's PBI\n",
    "\n",
    "import shutil\n",
    "import numpy as np\n",
    "import numpy.random as rnd\n",
    "from optv.calibration import Calibration\n",
    "from optv.imgcoord import image_coordinates\n",
    "from optv.transforms import convert_arr_metric_to_pixel\n",
    "from optv.segmentation import target_recognition\n",
    "from optv.imgcoord import image_coordinates\n",
    "from optv.transforms import convert_arr_metric_to_pixel\n",
    "from optv.orientation import match_detection_to_ref\n",
    "from optv.orientation import external_calibration, full_calibration\n",
    "from optv.calibration import Calibration\n",
    "from optv.tracking_framebuf import TargetArray\n",
    "\n",
    "\n",
    "from pyptv import ptv, parameter_gui, parameters as par"
   ]
  },
  {
   "cell_type": "code",
   "execution_count": 26,
   "metadata": {},
   "outputs": [],
   "source": [
    "from pathlib import Path\n",
    "par_path = Path(\"/home/user/Downloads/rbc300/parametersMultiPlain\")"
   ]
  },
  {
   "cell_type": "code",
   "execution_count": 27,
   "metadata": {},
   "outputs": [],
   "source": [
    "\n",
    "\n",
    "def get_pos(inters, R, angs):\n",
    "    # Transpose of http://planning.cs.uiuc.edu/node102.html\n",
    "    # Also consider the angles are reversed when moving from camera frame to\n",
    "    # global frame.\n",
    "    s = np.sin(angs)\n",
    "    c = np.cos(angs)\n",
    "    pos = inters + R*np.r_[ s[1], -c[1]*s[0], c[1]*c[0] ]\n",
    "    return pos\n",
    "\n",
    "def get_polar_rep(pos, angs):\n",
    "    \"\"\"\n",
    "    Returns the point of intersection with zero Z plane, and distance from it.\n",
    "    \"\"\"\n",
    "    s = np.sin(angs)\n",
    "    c = np.cos(angs)\n",
    "    zdir = -np.r_[ s[1], -c[1]*s[0], c[1]*c[0] ]\n",
    "    \n",
    "    c = -pos[2]/zdir[2]\n",
    "    inters = pos + c*zdir\n",
    "    R = np.linalg.norm(inters - pos)\n",
    "    \n",
    "    return inters[:2], R\n",
    "    \n",
    "def gen_calib(inters, R, angs, glass_vec, prim_point, radial_dist, decent):\n",
    "    pos = get_pos(inters, R, angs)\n",
    "    return Calibration(pos, angs, prim_point, radial_dist, decent, \n",
    "        np.r_[1, 0], glass_vec)\n",
    "\n",
    "def fitness(solution, calib_targs, calib_detect, glass_vec, cpar):\n",
    "    \"\"\"\n",
    "    Checks the fitness of an evolutionary solution of calibration values to \n",
    "    target points. Fitness is the sum of squares of the distance from each \n",
    "    guessed point to the closest neighbor.\n",
    "    \n",
    "    Arguments:\n",
    "    solution - array, concatenated: position of intersection with Z=0 plane; 3 \n",
    "        angles of exterior calibration; primary point (xh,yh,cc); 3 radial\n",
    "        distortion parameters; 2 decentering parameters.\n",
    "    calib_targs - a (p,3) array of p known points on the calibration target.\n",
    "    calib_detect - a (d,2) array of d detected points in the calibration \n",
    "        target.\n",
    "    cpar - a ControlParams object with image data.\n",
    "    \"\"\"\n",
    "    # Breakdown of of agregate solution vector:\n",
    "    inters = np.zeros(3)\n",
    "    inters[:2] = solution[:2]\n",
    "    R = solution[2]\n",
    "    angs = solution[3:6] \n",
    "    prim_point = solution[6:9]\n",
    "    rad_dist = solution[9:12]\n",
    "    decent = solution[12:14]\n",
    "        \n",
    "    # Compare known points' projections to detections:\n",
    "    cal = gen_calib(inters, R, angs, glass_vec, prim_point, rad_dist, decent)\n",
    "    known_proj = image_coordinates(calib_targs, cal, \n",
    "        cpar.get_multimedia_params())\n",
    "    known_2d = convert_arr_metric_to_pixel(known_proj, cpar)\n",
    "    dists = np.linalg.norm(\n",
    "        known_2d[None,:,:] - calib_detect[:,None,:], axis=2).min(axis=0)\n",
    "    \n",
    "    return np.sum(dists**2)\n"
   ]
  },
  {
   "cell_type": "code",
   "execution_count": 28,
   "metadata": {},
   "outputs": [
    {
     "data": {
      "text/plain": [
       "True"
      ]
     },
     "execution_count": 28,
     "metadata": {},
     "output_type": "execute_result"
    }
   ],
   "source": [
    "import os\n",
    "working_folder = Path(\"/home/user/Downloads/rbc300\")\n",
    "working_folder.exists()\n",
    "\n"
   ]
  },
  {
   "cell_type": "code",
   "execution_count": 29,
   "metadata": {},
   "outputs": [
    {
     "name": "stdout",
     "output_type": "stream",
     "text": [
      "/home/user/Downloads/rbc300\n"
     ]
    }
   ],
   "source": [
    "os.chdir(working_folder)\n",
    "print(os.getcwd())\n"
   ]
  },
  {
   "cell_type": "code",
   "execution_count": 30,
   "metadata": {},
   "outputs": [],
   "source": [
    "\n",
    "calOriParams = par.CalOriParams(path = working_folder / \"parameters\")\n"
   ]
  },
  {
   "cell_type": "code",
   "execution_count": 40,
   "metadata": {},
   "outputs": [],
   "source": [
    "def g(f):\n",
    "    \"\"\" Returns a line without white spaces \"\"\"\n",
    "    return f.readline().strip()\n",
    "\n",
    "def read(filepath, n_img = 4):\n",
    "    with open(filepath, \"r\") as f:\n",
    "\n",
    "        fixp_name = Path(g(f))\n",
    "        fixp_name.exists()\n",
    "\n",
    "        img_cal_name = []\n",
    "        img_ori = []\n",
    "        for i in range(n_img):\n",
    "            img_cal_name.append(g(f))\n",
    "            img_ori.append(g(f))\n",
    "\n",
    "        tiff_flag = int(g(f)) != 0  # <-- overwrites the above\n",
    "        pair_flag = int(g(f)) != 0\n",
    "        chfield = int(g(f))\n",
    "\n",
    "\n",
    "    # test if files are present, issue warnings\n",
    "    for i in range(n_img):\n",
    "        Path(img_cal_name[i]).exists()\n",
    "        Path(img_ori[i]).exists()\n",
    "\n",
    "    return fixp_name, img_cal_name, img_ori, tiff_flag, pair_flag, chfield\n"
   ]
  },
  {
   "cell_type": "code",
   "execution_count": 42,
   "metadata": {},
   "outputs": [
    {
     "data": {
      "text/plain": [
       "(['calibration_images/c0/calib_c0.tif',\n",
       "  'calibration_images/c1/calib_c1.tif',\n",
       "  'calibration_images/c2/calib_c2.tif',\n",
       "  'calibration_images/c3/calib_c3.tif'],\n",
       " ['cal/cam1.tif.ori',\n",
       "  'cal/cam2.tif.ori',\n",
       "  'cal/cam3.tif.ori',\n",
       "  'cal/cam4.tif.ori'])"
      ]
     },
     "execution_count": 42,
     "metadata": {},
     "output_type": "execute_result"
    }
   ],
   "source": [
    "fixp_name, img_cal_name, img_ori, tiff_flag, pair_flag, chfield = read(working_folder / \"parametersMultiPlane\" / \"cal_ori.par\")\n",
    "img_cal_name, img_ori"
   ]
  },
  {
   "cell_type": "code",
   "execution_count": 37,
   "metadata": {},
   "outputs": [
    {
     "data": {
      "text/plain": [
       "[PosixPath('/home/user/Downloads/rbc300/parameters/multi_planes.par'),\n",
       " PosixPath('/home/user/Downloads/rbc300/parameters/criteria.par'),\n",
       " PosixPath('/home/user/Downloads/rbc300/parameters/track.par'),\n",
       " PosixPath('/home/user/Downloads/rbc300/parameters/detect_plate.par'),\n",
       " PosixPath('/home/user/Downloads/rbc300/parameters/sequence.par'),\n",
       " PosixPath('/home/user/Downloads/rbc300/parameters/shaking.par'),\n",
       " PosixPath('/home/user/Downloads/rbc300/parameters/man_ori.par'),\n",
       " PosixPath('/home/user/Downloads/rbc300/parameters/orient.par'),\n",
       " PosixPath('/home/user/Downloads/rbc300/parameters/targ_rec.par'),\n",
       " PosixPath('/home/user/Downloads/rbc300/parameters/examine.par'),\n",
       " PosixPath('/home/user/Downloads/rbc300/parameters/cal_ori.par'),\n",
       " PosixPath('/home/user/Downloads/rbc300/parameters/unsharp_mask.par'),\n",
       " PosixPath('/home/user/Downloads/rbc300/parameters/ptv.par'),\n",
       " PosixPath('/home/user/Downloads/rbc300/parameters/pft_version.par'),\n",
       " PosixPath('/home/user/Downloads/rbc300/parameters/dumbbell.par'),\n",
       " PosixPath('/home/user/Downloads/rbc300/parameters/sortgrid.par')]"
      ]
     },
     "execution_count": 37,
     "metadata": {},
     "output_type": "execute_result"
    }
   ],
   "source": [
    "list(calOriParams.path.rglob('*.par'))"
   ]
  },
  {
   "cell_type": "code",
   "execution_count": null,
   "metadata": {},
   "outputs": [],
   "source": [
    "# for f in calOriParams.img_ori[:4]:\n",
    "#     print(f\"Backing up {f}\")\n",
    "#     shutil.copyfile(f, f + \".bck\")\n",
    "#     g = f.replace(\"ori\", \"addpar\")\n",
    "#     shutil.copyfile(g, g + \".bck\")\n"
   ]
  },
  {
   "cell_type": "code",
   "execution_count": null,
   "metadata": {},
   "outputs": [],
   "source": [
    "\n",
    "op = par.OrientParams()\n",
    "op.read()\n",
    "\n",
    "# recognized names for the flags:\n",
    "names = [\n",
    "    \"cc\",\n",
    "    \"xh\",\n",
    "    \"yh\",\n",
    "    \"k1\",\n",
    "    \"k2\",\n",
    "    \"k3\",\n",
    "    \"p1\",\n",
    "    \"p2\",\n",
    "    \"scale\",\n",
    "    \"shear\",\n",
    "]\n",
    "op_names = [\n",
    "    op.cc,\n",
    "    op.xh,\n",
    "    op.yh,\n",
    "    op.k1,\n",
    "    op.k2,\n",
    "    op.k3,\n",
    "    op.p1,\n",
    "    op.p2,\n",
    "    op.scale,\n",
    "    op.shear,\n",
    "]\n",
    "\n",
    "flags = []\n",
    "for name, op_name in zip(names, op_names):\n",
    "    if op_name == 1:\n",
    "        flags.append(name)\n",
    "\n",
    "for i_cam in range(self.n_cams):  # iterate over all cameras\n",
    "\n",
    "    if self.epar.Combine_Flag:\n",
    "\n",
    "        self.status_text = \"Multiplane calibration.\"\n",
    "        \"\"\" Performs multiplane calibration, in which for all cameras the\n",
    "        pre-processed planes in multi_plane.par combined.\n",
    "        Overwrites the ori and addpar files of the cameras specified\n",
    "        in cal_ori.par of the multiplane parameter folder\n",
    "        \"\"\"\n",
    "\n",
    "        all_known = []\n",
    "        all_detected = []\n",
    "\n",
    "        for i in range(\n",
    "            self.MultiParams.n_planes\n",
    "        ):  # combine all single planes\n",
    "\n",
    "            # c = self.calParams.img_ori[i_cam][-9] # Get camera id\n",
    "            # not all ends with a number\n",
    "            c = re.findall(\"\\\\d+\", self.calParams.img_ori[i_cam])[0]\n",
    "\n",
    "            file_known = (\n",
    "                self.MultiParams.plane_name[i] + c + \".tif.fix\"\n",
    "            )\n",
    "            file_detected = (\n",
    "                self.MultiParams.plane_name[i] + c + \".tif.crd\"\n",
    "            )\n",
    "\n",
    "            # Load calibration point information from plane i\n",
    "            try:\n",
    "                known = np.loadtxt(file_known)\n",
    "                detected = np.loadtxt(file_detected)\n",
    "            except BaseException:\n",
    "                raise IOError(\n",
    "                    \"reading {} or {} failed\".format(\n",
    "                        file_known, file_detected\n",
    "                    )\n",
    "                )\n",
    "\n",
    "            if np.any(detected == -999):\n",
    "                raise ValueError(\n",
    "                    (\n",
    "                        \"Using undetected points in {} will cause \"\n",
    "                        + \"silliness. Quitting.\"\n",
    "                    ).format(file_detected)\n",
    "                )\n",
    "\n",
    "            num_known = len(known)\n",
    "            num_detect = len(detected)\n",
    "\n",
    "            if num_known != num_detect:\n",
    "                raise ValueError(\n",
    "                    f\"Number of detected points {num_known} does not match\"\n",
    "                    \" number of known points {num_detect} for \\\n",
    "                        {file_known}, {file_detected}\")\n",
    "\n",
    "            if len(all_known) > 0:\n",
    "                detected[:, 0] = (\n",
    "                    all_detected[-1][-1, 0]\n",
    "                    + 1\n",
    "                    + np.arange(len(detected))\n",
    "                )\n",
    "\n",
    "            # Append to list of total known and detected points\n",
    "            all_known.append(known)\n",
    "            all_detected.append(detected)\n",
    "\n",
    "        # Make into the format needed for full_calibration.\n",
    "        all_known = np.vstack(all_known)[:, 1:]\n",
    "        all_detected = np.vstack(all_detected)\n",
    "\n",
    "        # this is the main difference in the multiplane mode\n",
    "        # that we fill the targs and cal_points by the\n",
    "        # combined information\n",
    "\n",
    "        targs = TargetArray(len(all_detected))\n",
    "        for tix in range(len(all_detected)):\n",
    "            targ = targs[tix]\n",
    "            det = all_detected[tix]\n",
    "\n",
    "            targ.set_pnr(tix)\n",
    "            targ.set_pos(det[1:])\n",
    "\n",
    "        self.cal_points = np.empty((all_known.shape[0],)).astype(\n",
    "            dtype=[(\"id\", \"i4\"), (\"pos\", \"3f8\")]\n",
    "        )\n",
    "        self.cal_points[\"pos\"] = all_known\n",
    "    else:\n",
    "        targs = self.sorted_targs[i_cam]\n",
    "\n",
    "\n",
    "    residuals, targ_ix, err_est = full_calibration(\n",
    "        self.cals[i_cam],\n",
    "        self.cal_points[\"pos\"],\n",
    "        targs,\n",
    "        self.cpar,\n",
    "        flags,\n",
    "    )"
   ]
  }
 ],
 "metadata": {
  "kernelspec": {
   "display_name": "pyptv",
   "language": "python",
   "name": "python3"
  },
  "language_info": {
   "codemirror_mode": {
    "name": "ipython",
    "version": 3
   },
   "file_extension": ".py",
   "mimetype": "text/x-python",
   "name": "python",
   "nbconvert_exporter": "python",
   "pygments_lexer": "ipython3",
   "version": "3.11.9"
  }
 },
 "nbformat": 4,
 "nbformat_minor": 2
}
