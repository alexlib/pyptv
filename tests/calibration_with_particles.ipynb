{
 "cells": [
  {
   "cell_type": "markdown",
   "metadata": {},
   "source": [
    "# Calibrate with particles "
   ]
  },
  {
   "cell_type": "markdown",
   "metadata": {},
   "source": [
    "The idea is to run PyPTV as usual, and check the box \"Use only 4 frames\". The result will be in the /res folder with only quadruplets as 3D and the respective indices of 2D targets per image\n",
    "\n",
    "If we read this dataset into the proper format, we can now reproject every 3D point in rt_is back into the image and then optimize calibration with disparity between the position of the target as detected and the reprojected center. "
   ]
  },
  {
   "cell_type": "code",
   "execution_count": null,
   "metadata": {},
   "outputs": [
    {
     "name": "stdout",
     "output_type": "stream",
     "text": [
      "[b'img_3/cam1.', b'img_3/cam2.', b'img_3/cam3.', b'img_3/cam4.']\n",
      "[]\n"
     ]
    }
   ],
   "source": [
    "# -*- coding: utf-8 -*-\n",
    "# copy of https://github.com/alexlib/pbi/blob/master/ptv/shake.py\n",
    "\"\"\"\n",
    "BOOM shake shake shake the room!!!\n",
    "\n",
    "Fine-tune calibration using the \"shaking\" method of comparing 3D positions \n",
    "obtained with existing calibration to their 2D projections. It's a kind of a \n",
    "feedback step over the normal calibration with known points.\n",
    "\n",
    "Created on Sun Jan 31 13:42:18 2016\n",
    "\n",
    "@author: Yosef Meller\n",
    "\"\"\"\n",
    "import numpy as np\n",
    "\n",
    "from optv.orientation import full_calibration\n",
    "from optv.tracking_framebuf import TargetArray, Frame\n",
    "from pyptv.ptv import full_scipy_calibration\n",
    "\n",
    "\n",
    "import os\n",
    "from pathlib import Path\n",
    "\n",
    "present_folder = Path.cwd()\n",
    "\n",
    "working_folder = Path(\"/home/user/Documents/repos/test_cavity\")\n",
    "par_path = working_folder / \"parameters\"\n",
    "working_folder.exists(), par_path.exists()\n",
    "\n",
    "from pyptv.ptv import py_start_proc_c\n",
    "from pyptv.parameters import OrientParams\n",
    "\n",
    "\n",
    "# we work inside the working folder, all the other paths are relative to this\n",
    "num_cams = 4\n",
    "os.chdir(working_folder)\n",
    "cpar, spar, vpar, track_par, tpar, calibs, epar = py_start_proc_c(num_cams)\n",
    "assert cpar.get_num_cams() == num_cams\n",
    "\n",
    "targ_files = [\n",
    "    spar.get_img_base_name(c).decode().split(\"%d\")[0].encode() for c in range(num_cams)\n",
    "]\n",
    "\n",
    "print(targ_files)\n",
    "\n",
    "\n",
    "# recognized names for the flags:\n",
    "NAMES = [\"cc\", \"xh\", \"yh\", \"k1\", \"k2\", \"k3\", \"p1\", \"p2\", \"scale\", \"shear\"]\n",
    "op = OrientParams()\n",
    "op.read()\n",
    "flags = [name for name in NAMES if getattr(op, name) == 1]\n",
    "\n",
    "print(flags)"
   ]
  },
  {
   "cell_type": "code",
   "execution_count": 2,
   "metadata": {},
   "outputs": [
    {
     "name": "stdout",
     "output_type": "stream",
     "text": [
      "Backing up cal/cam1.tif.ori\n",
      "Backing up cal/cam2.tif.ori\n",
      "Backing up cal/cam3.tif.ori\n",
      "Backing up cal/cam4.tif.ori\n"
     ]
    }
   ],
   "source": [
    "def backup_ori_files(cpar):\n",
    "    \"\"\"backup ORI/ADDPAR files to the backup_cal directory\"\"\"\n",
    "    import shutil\n",
    "\n",
    "    for i_cam in range(cpar.get_num_cams()):\n",
    "        f = cpar.get_cal_img_base_name(i_cam).decode()\n",
    "        print(f\"Backing up {f}.ori\")\n",
    "        shutil.copyfile(f + \".ori\", f + \".ori.bck\")\n",
    "        shutil.copyfile(f + \".addpar\", f + \".addpar.bck\")\n",
    "\n",
    "\n",
    "# Backup is the first thing to do\n",
    "backup_ori_files(cpar)"
   ]
  },
  {
   "cell_type": "code",
   "execution_count": 3,
   "metadata": {},
   "outputs": [
    {
     "name": "stdout",
     "output_type": "stream",
     "text": [
      "Starting from: calibration\n",
      "cam=0 [  78.11540025   15.92351745 -570.78991499], [-56.53585681   2.98297501  56.53131934]\n",
      "cam=1 [-118.04855126   27.22394654 -578.45047078], [ 0.03304577 -2.93444417 -0.01542235]\n",
      "cam=2 [-111.5094956    72.49307514  584.63772122], [-0.11023317 -0.19965175 -0.02763281]\n",
      "cam=3 [124.39034813  68.30563702 573.54174179], [-0.11962148  0.23596931  0.00940686]\n"
     ]
    }
   ],
   "source": [
    "print(\"Starting from: calibration\")\n",
    "for cam in range(num_cams):\n",
    "    print(f\"{cam=} {calibs[cam].get_pos()}, {calibs[cam].get_angles()}\")"
   ]
  },
  {
   "cell_type": "code",
   "execution_count": 4,
   "metadata": {},
   "outputs": [
    {
     "name": "stdout",
     "output_type": "stream",
     "text": [
      "Can't open ascii file: img_3/cam1._targets\n"
     ]
    }
   ],
   "source": [
    "# Iterate over frames, loading the big lists of 3D positions and\n",
    "# respective detections.\n",
    "all_known = []\n",
    "all_detected = [[] for c in range(cpar.get_num_cams())]\n",
    "\n",
    "for frm_num in range(\n",
    "    spar.get_first(), spar.get_last() + 1\n",
    "):  # all frames for now, think of skipping some\n",
    "    frame = Frame(\n",
    "        cpar.get_num_cams(),\n",
    "        corres_file_base=(\"res/rt_is\").encode(),\n",
    "        linkage_file_base=(\"res/ptv_is\").encode(),\n",
    "        target_file_base=targ_files,\n",
    "        frame_num=frm_num,\n",
    "    )\n",
    "\n",
    "    all_known.append(frame.positions())\n",
    "    for cam in range(cpar.get_num_cams()):\n",
    "        all_detected[cam].append(frame.target_positions_for_camera(cam))\n",
    "\n",
    "# Make into the format needed for full_calibration.\n",
    "all_known = np.vstack(all_known)"
   ]
  },
  {
   "cell_type": "code",
   "execution_count": 5,
   "metadata": {},
   "outputs": [
    {
     "name": "stdout",
     "output_type": "stream",
     "text": [
      "After full calibration, 4238.65116277513\n",
      "Camera 1\n",
      "[ 117.92618753  -96.22618625 -661.83355869]\n",
      "[-56.69999735   2.92738529  56.50535602]\n",
      "Error in full_calibration: Orientation iteration failed, need better setup., run Scipy.optimize\n",
      "After full calibration, 4761.482349732552\n",
      "Camera 3\n",
      "[-190.78002628   84.71599112  655.67206225]\n",
      "[-0.13408924 -0.31725406 -0.06968912]\n",
      "After full calibration, 4526.47521830534\n",
      "Camera 4\n",
      "[ 97.33291204 148.02769446 666.61990242]\n",
      "[-0.24134346  0.13825767 -0.01346956]\n"
     ]
    }
   ],
   "source": [
    "# Calibrate each camera accordingly.\n",
    "for cam in range(num_cams):\n",
    "    detects = np.vstack(all_detected[cam])\n",
    "    assert detects.shape[0] == all_known.shape[0]\n",
    "\n",
    "    have_targets = ~np.isnan(detects[:, 0])\n",
    "    used_detects = detects[have_targets, :]\n",
    "    used_known = all_known[have_targets, :]\n",
    "\n",
    "    targs = TargetArray(len(used_detects))\n",
    "\n",
    "    for tix in range(len(used_detects)):\n",
    "        targ = targs[tix]\n",
    "        targ.set_pnr(tix)\n",
    "        targ.set_pos(used_detects[tix])\n",
    "\n",
    "    # residuals = full_calibration(calibs[cam], used_known, targs, cpar)\n",
    "\n",
    "    try:\n",
    "        residuals, targ_ix, err_est = full_calibration(\n",
    "            calibs[cam],\n",
    "            used_known,\n",
    "            targs,\n",
    "            cpar,\n",
    "            flags=[],\n",
    "        )\n",
    "        print(f\"After full calibration, {np.sum(residuals**2)}\")\n",
    "\n",
    "        print((\"Camera %d\" % (cam + 1)))\n",
    "        print((calibs[cam].get_pos()))\n",
    "        print((calibs[cam].get_angles()))\n",
    "\n",
    "    except Exception as e:\n",
    "        print(f\"Error in full_calibration: {e}, run Scipy.optimize\")\n",
    "        continue\n",
    "\n",
    "    # else:\n",
    "    #     if args.output is None:\n",
    "    #         ori = cal_args[cam]['ori_file']\n",
    "    #         distort = cal_args[cam]['addpar_file']\n",
    "    #     else:\n",
    "    #         ori = args.output % (cam + 1) + '.ori'\n",
    "    #         distort = args.output % (cam + 1) + '.addpar'\n",
    "\n",
    "    #     calibs[cam].write(ori.encode(), distort.encode())"
   ]
  },
  {
   "cell_type": "code",
   "execution_count": 6,
   "metadata": {},
   "outputs": [
    {
     "name": "stdout",
     "output_type": "stream",
     "text": [
      "After full calibration, 4238.651162775129\n",
      "Camera 1\n",
      "[ 117.92616027  -96.22619204 -661.83356428]\n",
      "[-56.69999736   2.92738534  56.50535602]\n",
      "Error in full_calibration: Orientation iteration failed, need better setup., run Scipy.optimize\n",
      "After full calibration, 4761.482349732552\n",
      "Camera 3\n",
      "[-190.78009964   84.71595015  655.67203841]\n",
      "[-0.13408918 -0.31725419 -0.06968912]\n",
      "After full calibration, 4526.47521830534\n",
      "Camera 4\n",
      "[ 97.33294504 148.02771737 666.61989517]\n",
      "[-0.24134349  0.13825772 -0.01346955]\n"
     ]
    }
   ],
   "source": [
    "# Calibrate each camera accordingly.\n",
    "for cam in range(num_cams):\n",
    "    detects = np.vstack(all_detected[cam])\n",
    "    assert detects.shape[0] == all_known.shape[0]\n",
    "\n",
    "    have_targets = ~np.isnan(detects[:, 0])\n",
    "    used_detects = detects[have_targets, :]\n",
    "    used_known = all_known[have_targets, :]\n",
    "\n",
    "    targs = TargetArray(len(used_detects))\n",
    "\n",
    "    for tix in range(len(used_detects)):\n",
    "        targ = targs[tix]\n",
    "        targ.set_pnr(tix)\n",
    "        targ.set_pos(used_detects[tix])\n",
    "\n",
    "    # residuals = full_calibration(calibs[cam], used_known, targs, cpar)\n",
    "\n",
    "    try:\n",
    "        residuals, targ_ix, err_est = full_calibration(\n",
    "            calibs[cam],\n",
    "            used_known,\n",
    "            targs,\n",
    "            cpar,\n",
    "            flags=flags,\n",
    "        )\n",
    "        print(f\"After full calibration, {np.sum(residuals**2)}\")\n",
    "\n",
    "        print((\"Camera %d\" % (cam + 1)))\n",
    "        print((calibs[cam].get_pos()))\n",
    "        print((calibs[cam].get_angles()))\n",
    "\n",
    "    except Exception as e:\n",
    "        print(f\"Error in full_calibration: {e}, run Scipy.optimize\")\n",
    "        continue"
   ]
  },
  {
   "cell_type": "code",
   "execution_count": 7,
   "metadata": {},
   "outputs": [
    {
     "name": "stdout",
     "output_type": "stream",
     "text": [
      "After scipy full calibration, 2943.5077519271726\n",
      "Camera 1\n",
      "[ 117.92616027  -96.22619204 -661.83356428]\n",
      "[-56.69999736   2.92738534  56.50535602]\n",
      "After scipy full calibration, 3780.3093437748353\n",
      "Camera 2\n",
      "[-118.04855126   27.22394654 -578.45047078]\n",
      "[ 0.03304577 -2.93444417 -0.01542235]\n",
      "After scipy full calibration, 3306.58496509205\n",
      "Camera 3\n",
      "[-190.78009964   84.71595015  655.67203841]\n",
      "[-0.13408918 -0.31725419 -0.06968912]\n",
      "After scipy full calibration, 3143.385568267597\n",
      "Camera 4\n",
      "[ 97.33294504 148.02771737 666.61989517]\n",
      "[-0.24134349  0.13825772 -0.01346955]\n"
     ]
    }
   ],
   "source": [
    "# Calibrate each camera accordingly.\n",
    "for cam in range(num_cams):\n",
    "    detects = np.vstack(all_detected[cam])\n",
    "    assert detects.shape[0] == all_known.shape[0]\n",
    "\n",
    "    have_targets = ~np.isnan(detects[:, 0])\n",
    "    used_detects = detects[have_targets, :]\n",
    "    used_known = all_known[have_targets, :]\n",
    "\n",
    "    targs = TargetArray(len(used_detects))\n",
    "\n",
    "    for tix in range(len(used_detects)):\n",
    "        targ = targs[tix]\n",
    "        targ.set_pnr(tix)\n",
    "        targ.set_pos(used_detects[tix])\n",
    "\n",
    "    residuals = full_scipy_calibration(\n",
    "        calibs[cam], used_known, targs, cpar, flags=flags\n",
    "    )\n",
    "    print(f\"After scipy full calibration, {np.sum(residuals**2)}\")\n",
    "\n",
    "    print((\"Camera %d\" % (cam + 1)))\n",
    "    print((calibs[cam].get_pos()))\n",
    "    print((calibs[cam].get_angles()))\n",
    "\n",
    "# targ_ix = [t.pnr() for t in targs if t.pnr() != -999]\n",
    "# targ_ix = np.arange(len(all_detected))\n",
    "\n",
    "# save the results from calibs[cam]\n",
    "# _write_ori(i_cam, addpar_flag=True)"
   ]
  }
 ],
 "metadata": {
  "kernelspec": {
   "display_name": "pyptv",
   "language": "python",
   "name": "python3"
  },
  "language_info": {
   "codemirror_mode": {
    "name": "ipython",
    "version": 3
   },
   "file_extension": ".py",
   "mimetype": "text/x-python",
   "name": "python",
   "nbconvert_exporter": "python",
   "pygments_lexer": "ipython3",
   "version": "3.11.10"
  }
 },
 "nbformat": 4,
 "nbformat_minor": 2
}
